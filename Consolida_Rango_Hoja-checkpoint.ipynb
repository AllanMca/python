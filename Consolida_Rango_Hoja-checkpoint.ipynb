{
 "cells": [
  {
   "cell_type": "code",
   "execution_count": 18,
   "metadata": {},
   "outputs": [
    {
     "ename": "NameError",
     "evalue": "name 'workbook' is not defined",
     "output_type": "error",
     "traceback": [
      "\u001b[1;31m---------------------------------------------------------------------------\u001b[0m",
      "\u001b[1;31mNameError\u001b[0m                                 Traceback (most recent call last)",
      "\u001b[1;32m<ipython-input-18-de329281f100>\u001b[0m in \u001b[0;36m<module>\u001b[1;34m\u001b[0m\n\u001b[0;32m     36\u001b[0m     \u001b[0mdata\u001b[0m\u001b[1;33m=\u001b[0m\u001b[0mpd\u001b[0m\u001b[1;33m.\u001b[0m\u001b[0mread_excel\u001b[0m\u001b[1;33m(\u001b[0m\u001b[0mf\u001b[0m\u001b[1;33m)\u001b[0m\u001b[1;33m\u001b[0m\u001b[1;33m\u001b[0m\u001b[0m\n\u001b[0;32m     37\u001b[0m     \u001b[0mlibro\u001b[0m\u001b[1;33m=\u001b[0m\u001b[0mopenpyxl\u001b[0m\u001b[1;33m.\u001b[0m\u001b[0mload_workbook\u001b[0m\u001b[1;33m(\u001b[0m\u001b[0mf\u001b[0m\u001b[1;33m)\u001b[0m\u001b[1;33m\u001b[0m\u001b[1;33m\u001b[0m\u001b[0m\n\u001b[1;32m---> 38\u001b[1;33m     \u001b[0mhojas\u001b[0m\u001b[1;33m=\u001b[0m\u001b[0mworkbook\u001b[0m\u001b[1;33m.\u001b[0m\u001b[0msheetnames\u001b[0m\u001b[1;33m(\u001b[0m\u001b[1;33m)\u001b[0m\u001b[1;33m\u001b[0m\u001b[1;33m\u001b[0m\u001b[0m\n\u001b[0m\u001b[0;32m     39\u001b[0m     \u001b[1;32mfor\u001b[0m \u001b[0mhoja\u001b[0m \u001b[1;32min\u001b[0m \u001b[0mhojas\u001b[0m\u001b[1;33m:\u001b[0m\u001b[1;33m\u001b[0m\u001b[1;33m\u001b[0m\u001b[0m\n\u001b[0;32m     40\u001b[0m         \u001b[1;32mif\u001b[0m \u001b[0mhoja\u001b[0m \u001b[1;33m==\u001b[0m \u001b[0mhoja_requerido\u001b[0m\u001b[1;33m:\u001b[0m\u001b[1;33m\u001b[0m\u001b[1;33m\u001b[0m\u001b[0m\n",
      "\u001b[1;31mNameError\u001b[0m: name 'workbook' is not defined"
     ]
    }
   ],
   "source": [
    "import sys\n",
    "import os\n",
    "import pandas as pd\n",
    "from openpyxl import Workbook\n",
    "wb = Workbook()\n",
    "\n",
    "#Path tonde se va a guardar el archivo de salida\n",
    "path_out=r'C:\\Users\\VMCA\\Documents\\Python Course\\Final Project\\Lista Inscripciones\\Outputs_Files/'\n",
    "\n",
    "#Obtener archivos de Excel\n",
    "path = os.getcwd()\n",
    "files = os.listdir(path)\n",
    "files_excel=[f for f in files if f[-4:]==\"xlsx\"]\n",
    "\n",
    "#Consolidar la informacion de los archivos de excel\n",
    "df= pd.DataFrame()\n",
    "for f in files_excel:\n",
    "    data=pd.read_excel(f)\n",
    "    df=df.append(data)\n",
    "\n",
    "# El problema con este metodo es que copia la hora por completo y solo se require la informacion que esta despues \n",
    "# de la fila 10 hasta la columna \"H\"\n",
    "\n",
    "#--------------------------------------------------------------------------------------------------------------------\n",
    "#Crear archivo para pegar en excel\n",
    "writer = pd.ExcelWriter(path_out+'output.xlsx')\n",
    "df.to_excel(writer,'Sheet1')\n",
    "\n",
    "\n",
    "#Codigo para copiar solo el rango requerido\n",
    "#Nombre hoja requerido\n",
    "hoja_requerido = \"Inscripcion\"\n",
    "\n",
    "df=pd.DataFrame()\n",
    "for f in files_excel:\n",
    "    data=pd.read_excel(f)\n",
    "    libro=openpyxl.load_workbook(f)\n",
    "    hojas=workbook.sheetnames()\n",
    "    for hoja in hojas:\n",
    "        if hoja == hoja_requerido:\n",
    "            #El nombre de la hoja que se requiere copiar la informacion es \"Inscripcion\"    \n",
    "            def createData():\n",
    "                selectedRange = copyRange(2,10,7,50,\"Inscripcion\") #Change the 4 number values\n",
    "                pastingRange = pasteRange(1,2,7,50,\"Sheet1\",selectedRange) #Change the 4 number values\n",
    "                print(\"Range copied and pasted!\")\n",
    "\n",
    "\n",
    "\n",
    "#Salvar archivo\n",
    "\n",
    "writer.save()  \n",
    "\n",
    "\n",
    "\n"
   ]
  },
  {
   "cell_type": "markdown",
   "metadata": {},
   "source": [
    "# Formulas para copiar y pegar en los rangos seleccionados"
   ]
  },
  {
   "cell_type": "code",
   "execution_count": 2,
   "metadata": {},
   "outputs": [
    {
     "data": {
      "text/plain": [
       "[]"
      ]
     },
     "execution_count": 2,
     "metadata": {},
     "output_type": "execute_result"
    }
   ],
   "source": [
    "\n",
    "from openpyxl import workbook\n",
    "wb=Workbook()\n",
    "#Se requiere para copiar la informacion desde la fila 10 hasta la columna \"H\"\n",
    "def copyRange(startCol, startRow, endCol, endRow, sheet):\n",
    "    rangeSelected = []\n",
    "    #Loops through selected Rows\n",
    "    for i in range(startRow,endRow + 1,1):\n",
    "        #Appends the row to a RowSelected list\n",
    "        rowSelected = []\n",
    "        for j in range(startCol,endCol+1,1):\n",
    "            rowSelected.append(sheet.cell(row = i, column = j).value)\n",
    "        #Adds the RowSelected List and nests inside the rangeSelected\n",
    "        rangeSelected.append(rowSelected)\n",
    "\n",
    "    return rangeSelected\n",
    "         \n",
    "\n",
    "#Paste range\n",
    "#Paste data from copyRange into template sheet\n",
    "def pasteRange(startCol, startRow, endCol, endRow, sheetReceiving,copiedData):\n",
    "    countRow = 0\n",
    "    for i in range(startRow,endRow+1,1):\n",
    "        countCol = 0\n",
    "        for j in range(startCol,endCol+1,1):\n",
    "            \n",
    "            sheetReceiving.cell(row = i, column = j).value = copiedData[countRow][countCol]\n",
    "            countCol += 1\n",
    "        countRow += 1\n"
   ]
  },
  {
   "cell_type": "code",
   "execution_count": null,
   "metadata": {},
   "outputs": [],
   "source": []
  }
 ],
 "metadata": {
  "kernelspec": {
   "display_name": "Python 3",
   "language": "python",
   "name": "python3"
  },
  "language_info": {
   "codemirror_mode": {
    "name": "ipython",
    "version": 3
   },
   "file_extension": ".py",
   "mimetype": "text/x-python",
   "name": "python",
   "nbconvert_exporter": "python",
   "pygments_lexer": "ipython3",
   "version": "3.7.3"
  }
 },
 "nbformat": 4,
 "nbformat_minor": 2
}
