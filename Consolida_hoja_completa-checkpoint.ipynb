{
 "cells": [
  {
   "cell_type": "code",
   "execution_count": 19,
   "metadata": {
    "scrolled": true
   },
   "outputs": [],
   "source": [
    "import sys\n",
    "import os\n",
    "import pandas as pd\n",
    "import openpyxl\n",
    "\n",
    "#Path tonde se va a guardar el archivo de salida\n",
    "path_out=r'C:\\Users\\VMCA\\Documents\\Python Course\\Final Project\\Lista Inscripciones\\Outputs_Files/'\n",
    "\n",
    "#Obtener archivos de Excel\n",
    "path = os.getcwd()\n",
    "files = os.listdir(path)\n",
    "files_excel=[f for f in files if f[-4:]==\"xlsx\"]\n",
    "\n",
    "#Consolidar la informacion de los archivos de excel\n",
    "df= pd.DataFrame()\n",
    "for f in files_excel:\n",
    "    data=pd.read_excel(f)\n",
    "    df=df.append(data)\n",
    "\n",
    "\n",
    "\n",
    "#Salvar archivo\n",
    "#Crear archivo para pegar en excel\n",
    "writer = pd.ExcelWriter(path_out+'Salida_hoja_completa.xlsx')\n",
    "df.to_excel(writer,'sheet1')\n",
    "writer.save()  \n",
    "\n",
    "\n",
    "\n"
   ]
  },
  {
   "cell_type": "code",
   "execution_count": null,
   "metadata": {},
   "outputs": [],
   "source": []
  }
 ],
 "metadata": {
  "kernelspec": {
   "display_name": "Python 3",
   "language": "python",
   "name": "python3"
  },
  "language_info": {
   "codemirror_mode": {
    "name": "ipython",
    "version": 3
   },
   "file_extension": ".py",
   "mimetype": "text/x-python",
   "name": "python",
   "nbconvert_exporter": "python",
   "pygments_lexer": "ipython3",
   "version": "3.7.3"
  }
 },
 "nbformat": 4,
 "nbformat_minor": 2
}
